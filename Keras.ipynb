{
 "cells": [
  {
   "cell_type": "code",
   "execution_count": 112,
   "metadata": {},
   "outputs": [],
   "source": [
    "import pandas as pd\n",
    "import numpy as np\n",
    "from sklearn.model_selection import train_test_split\n",
    "from keras import Sequential\n",
    "from keras.layers import Dense\n",
    "from keras.models import load_model"
   ]
  },
  {
   "cell_type": "code",
   "execution_count": 103,
   "metadata": {},
   "outputs": [
    {
     "data": {
      "text/html": [
       "<div>\n",
       "<style scoped>\n",
       "    .dataframe tbody tr th:only-of-type {\n",
       "        vertical-align: middle;\n",
       "    }\n",
       "\n",
       "    .dataframe tbody tr th {\n",
       "        vertical-align: top;\n",
       "    }\n",
       "\n",
       "    .dataframe thead th {\n",
       "        text-align: right;\n",
       "    }\n",
       "</style>\n",
       "<table border=\"1\" class=\"dataframe\">\n",
       "  <thead>\n",
       "    <tr style=\"text-align: right;\">\n",
       "      <th></th>\n",
       "      <th>0</th>\n",
       "      <th>1</th>\n",
       "      <th>2</th>\n",
       "      <th>3</th>\n",
       "      <th>4</th>\n",
       "      <th>5</th>\n",
       "      <th>6</th>\n",
       "      <th>7</th>\n",
       "      <th>8</th>\n",
       "    </tr>\n",
       "  </thead>\n",
       "  <tbody>\n",
       "    <tr>\n",
       "      <th>0</th>\n",
       "      <td>6</td>\n",
       "      <td>148</td>\n",
       "      <td>72</td>\n",
       "      <td>35</td>\n",
       "      <td>0</td>\n",
       "      <td>33.6</td>\n",
       "      <td>0.627</td>\n",
       "      <td>50</td>\n",
       "      <td>1</td>\n",
       "    </tr>\n",
       "    <tr>\n",
       "      <th>1</th>\n",
       "      <td>1</td>\n",
       "      <td>85</td>\n",
       "      <td>66</td>\n",
       "      <td>29</td>\n",
       "      <td>0</td>\n",
       "      <td>26.6</td>\n",
       "      <td>0.351</td>\n",
       "      <td>31</td>\n",
       "      <td>0</td>\n",
       "    </tr>\n",
       "    <tr>\n",
       "      <th>2</th>\n",
       "      <td>8</td>\n",
       "      <td>183</td>\n",
       "      <td>64</td>\n",
       "      <td>0</td>\n",
       "      <td>0</td>\n",
       "      <td>23.3</td>\n",
       "      <td>0.672</td>\n",
       "      <td>32</td>\n",
       "      <td>1</td>\n",
       "    </tr>\n",
       "    <tr>\n",
       "      <th>3</th>\n",
       "      <td>1</td>\n",
       "      <td>89</td>\n",
       "      <td>66</td>\n",
       "      <td>23</td>\n",
       "      <td>94</td>\n",
       "      <td>28.1</td>\n",
       "      <td>0.167</td>\n",
       "      <td>21</td>\n",
       "      <td>0</td>\n",
       "    </tr>\n",
       "    <tr>\n",
       "      <th>4</th>\n",
       "      <td>0</td>\n",
       "      <td>137</td>\n",
       "      <td>40</td>\n",
       "      <td>35</td>\n",
       "      <td>168</td>\n",
       "      <td>43.1</td>\n",
       "      <td>2.288</td>\n",
       "      <td>33</td>\n",
       "      <td>1</td>\n",
       "    </tr>\n",
       "  </tbody>\n",
       "</table>\n",
       "</div>"
      ],
      "text/plain": [
       "   0    1   2   3    4     5      6   7  8\n",
       "0  6  148  72  35    0  33.6  0.627  50  1\n",
       "1  1   85  66  29    0  26.6  0.351  31  0\n",
       "2  8  183  64   0    0  23.3  0.672  32  1\n",
       "3  1   89  66  23   94  28.1  0.167  21  0\n",
       "4  0  137  40  35  168  43.1  2.288  33  1"
      ]
     },
     "execution_count": 103,
     "metadata": {},
     "output_type": "execute_result"
    }
   ],
   "source": [
    "df = pd.read_csv(\"pima-indians-diabetes.data.csv\",header=None)\n",
    "df.head()"
   ]
  },
  {
   "cell_type": "code",
   "execution_count": 152,
   "metadata": {},
   "outputs": [
    {
     "data": {
      "text/plain": [
       "0      8.000\n",
       "1    183.000\n",
       "2     64.000\n",
       "3      0.000\n",
       "4      0.000\n",
       "5     23.300\n",
       "6      0.672\n",
       "7     32.000\n",
       "Name: 2, dtype: float64"
      ]
     },
     "execution_count": 152,
     "metadata": {},
     "output_type": "execute_result"
    }
   ],
   "source": [
    "X = df.loc[:,0:7]\n",
    "y = df.loc[:,8]\n",
    "X\n",
    "\n"
   ]
  },
  {
   "cell_type": "code",
   "execution_count": 105,
   "metadata": {},
   "outputs": [],
   "source": [
    "X_train_val, X_test, y_train_val, y_test = train_test_split(\n",
    "    X, y, test_size=0.2)\n"
   ]
  },
  {
   "cell_type": "code",
   "execution_count": 106,
   "metadata": {},
   "outputs": [],
   "source": [
    "X_train, X_val, y_train, y_val = train_test_split(\n",
    "    X_train_val, y_train_val, test_size=0.2)\n"
   ]
  },
  {
   "cell_type": "code",
   "execution_count": 107,
   "metadata": {},
   "outputs": [],
   "source": [
    "model = Sequential()\n",
    "model.add(Dense(16, input_dim=8, activation=\"relu\"))\n",
    "model.add(Dense(8, activation=\"relu\"))\n",
    "model.add(Dense(1, activation=\"sigmoid\"))\n"
   ]
  },
  {
   "cell_type": "markdown",
   "metadata": {},
   "source": [
    "Show model"
   ]
  },
  {
   "cell_type": "code",
   "execution_count": 108,
   "metadata": {},
   "outputs": [
    {
     "name": "stdout",
     "output_type": "stream",
     "text": [
      "Model: \"sequential_1\"\n",
      "_________________________________________________________________\n",
      " Layer (type)                Output Shape              Param #   \n",
      "=================================================================\n",
      " dense_3 (Dense)             (None, 16)                144       \n",
      "                                                                 \n",
      " dense_4 (Dense)             (None, 8)                 136       \n",
      "                                                                 \n",
      " dense_5 (Dense)             (None, 1)                 9         \n",
      "                                                                 \n",
      "=================================================================\n",
      "Total params: 289\n",
      "Trainable params: 289\n",
      "Non-trainable params: 0\n",
      "_________________________________________________________________\n"
     ]
    }
   ],
   "source": [
    "model.summary()"
   ]
  },
  {
   "cell_type": "markdown",
   "metadata": {},
   "source": [
    "Compile model\n",
    "+Loss\n",
    "+Optimizer\n",
    "+Metric"
   ]
  },
  {
   "cell_type": "code",
   "execution_count": 109,
   "metadata": {},
   "outputs": [],
   "source": [
    "model.compile(loss=\"binary_crossentropy\",\n",
    "              optimizer=\"adam\", metrics=[\"accuracy\"])\n"
   ]
  },
  {
   "cell_type": "markdown",
   "metadata": {},
   "source": [
    "Train model\n",
    "Epoch (so vong train)\n",
    "Batch_size\n",
    "Valodation"
   ]
  },
  {
   "cell_type": "code",
   "execution_count": 110,
   "metadata": {},
   "outputs": [
    {
     "name": "stdout",
     "output_type": "stream",
     "text": [
      "Epoch 1/100\n",
      "62/62 [==============================] - 1s 9ms/step - loss: 4.2326 - accuracy: 0.5418 - val_loss: 2.2000 - val_accuracy: 0.5203\n",
      "Epoch 2/100\n",
      "62/62 [==============================] - 0s 2ms/step - loss: 1.6173 - accuracy: 0.5132 - val_loss: 1.2723 - val_accuracy: 0.5935\n",
      "Epoch 3/100\n",
      "62/62 [==============================] - 0s 2ms/step - loss: 1.1992 - accuracy: 0.5418 - val_loss: 0.9718 - val_accuracy: 0.6260\n",
      "Epoch 4/100\n",
      "62/62 [==============================] - 0s 2ms/step - loss: 1.0349 - accuracy: 0.5682 - val_loss: 0.8474 - val_accuracy: 0.6260\n",
      "Epoch 5/100\n",
      "62/62 [==============================] - 0s 2ms/step - loss: 0.9287 - accuracy: 0.5927 - val_loss: 0.7811 - val_accuracy: 0.6341\n",
      "Epoch 6/100\n",
      "62/62 [==============================] - 0s 2ms/step - loss: 0.8595 - accuracy: 0.6130 - val_loss: 0.7184 - val_accuracy: 0.6341\n",
      "Epoch 7/100\n",
      "62/62 [==============================] - 0s 2ms/step - loss: 0.7850 - accuracy: 0.6069 - val_loss: 0.7520 - val_accuracy: 0.6423\n",
      "Epoch 8/100\n",
      "62/62 [==============================] - 0s 2ms/step - loss: 0.7521 - accuracy: 0.6130 - val_loss: 0.6905 - val_accuracy: 0.6585\n",
      "Epoch 9/100\n",
      "62/62 [==============================] - 0s 2ms/step - loss: 0.7370 - accuracy: 0.6171 - val_loss: 0.6831 - val_accuracy: 0.6423\n",
      "Epoch 10/100\n",
      "62/62 [==============================] - 0s 2ms/step - loss: 0.6935 - accuracy: 0.6456 - val_loss: 0.6538 - val_accuracy: 0.6585\n",
      "Epoch 11/100\n",
      "62/62 [==============================] - 0s 2ms/step - loss: 0.6720 - accuracy: 0.6477 - val_loss: 0.6550 - val_accuracy: 0.7073\n",
      "Epoch 12/100\n",
      "62/62 [==============================] - 0s 2ms/step - loss: 0.6709 - accuracy: 0.6497 - val_loss: 0.7022 - val_accuracy: 0.6585\n",
      "Epoch 13/100\n",
      "62/62 [==============================] - 0s 2ms/step - loss: 0.6554 - accuracy: 0.6782 - val_loss: 0.6479 - val_accuracy: 0.6585\n",
      "Epoch 14/100\n",
      "62/62 [==============================] - 0s 2ms/step - loss: 0.6527 - accuracy: 0.6578 - val_loss: 0.6156 - val_accuracy: 0.7154\n",
      "Epoch 15/100\n",
      "62/62 [==============================] - 0s 2ms/step - loss: 0.6551 - accuracy: 0.6415 - val_loss: 0.6072 - val_accuracy: 0.7154\n",
      "Epoch 16/100\n",
      "62/62 [==============================] - 0s 2ms/step - loss: 0.6641 - accuracy: 0.6802 - val_loss: 0.6371 - val_accuracy: 0.6585\n",
      "Epoch 17/100\n",
      "62/62 [==============================] - 0s 2ms/step - loss: 0.6425 - accuracy: 0.6660 - val_loss: 0.6149 - val_accuracy: 0.6504\n",
      "Epoch 18/100\n",
      "62/62 [==============================] - 0s 2ms/step - loss: 0.6271 - accuracy: 0.6680 - val_loss: 0.6154 - val_accuracy: 0.6992\n",
      "Epoch 19/100\n",
      "62/62 [==============================] - 0s 2ms/step - loss: 0.6175 - accuracy: 0.6721 - val_loss: 0.6055 - val_accuracy: 0.6911\n",
      "Epoch 20/100\n",
      "62/62 [==============================] - 0s 2ms/step - loss: 0.6160 - accuracy: 0.6680 - val_loss: 0.6187 - val_accuracy: 0.6829\n",
      "Epoch 21/100\n",
      "62/62 [==============================] - 0s 2ms/step - loss: 0.6130 - accuracy: 0.6660 - val_loss: 0.6674 - val_accuracy: 0.6423\n",
      "Epoch 22/100\n",
      "62/62 [==============================] - 0s 2ms/step - loss: 0.6413 - accuracy: 0.6660 - val_loss: 0.6396 - val_accuracy: 0.6911\n",
      "Epoch 23/100\n",
      "62/62 [==============================] - 0s 2ms/step - loss: 0.6031 - accuracy: 0.7169 - val_loss: 0.6425 - val_accuracy: 0.6748\n",
      "Epoch 24/100\n",
      "62/62 [==============================] - 0s 2ms/step - loss: 0.6085 - accuracy: 0.6741 - val_loss: 0.6023 - val_accuracy: 0.6911\n",
      "Epoch 25/100\n",
      "62/62 [==============================] - 0s 2ms/step - loss: 0.6054 - accuracy: 0.6925 - val_loss: 0.6081 - val_accuracy: 0.6911\n",
      "Epoch 26/100\n",
      "62/62 [==============================] - 0s 2ms/step - loss: 0.6066 - accuracy: 0.6782 - val_loss: 0.6010 - val_accuracy: 0.6829\n",
      "Epoch 27/100\n",
      "62/62 [==============================] - 0s 2ms/step - loss: 0.5852 - accuracy: 0.7149 - val_loss: 0.6275 - val_accuracy: 0.6504\n",
      "Epoch 28/100\n",
      "62/62 [==============================] - 0s 2ms/step - loss: 0.5969 - accuracy: 0.7006 - val_loss: 0.6007 - val_accuracy: 0.6911\n",
      "Epoch 29/100\n",
      "62/62 [==============================] - 0s 2ms/step - loss: 0.5952 - accuracy: 0.6864 - val_loss: 0.6721 - val_accuracy: 0.6423\n",
      "Epoch 30/100\n",
      "62/62 [==============================] - 0s 2ms/step - loss: 0.6246 - accuracy: 0.6884 - val_loss: 0.6411 - val_accuracy: 0.6911\n",
      "Epoch 31/100\n",
      "62/62 [==============================] - 0s 2ms/step - loss: 0.5898 - accuracy: 0.6884 - val_loss: 0.6098 - val_accuracy: 0.7073\n",
      "Epoch 32/100\n",
      "62/62 [==============================] - 0s 2ms/step - loss: 0.5916 - accuracy: 0.6925 - val_loss: 0.6161 - val_accuracy: 0.6748\n",
      "Epoch 33/100\n",
      "62/62 [==============================] - 0s 2ms/step - loss: 0.6526 - accuracy: 0.6721 - val_loss: 0.6415 - val_accuracy: 0.6423\n",
      "Epoch 34/100\n",
      "62/62 [==============================] - 0s 2ms/step - loss: 0.6104 - accuracy: 0.6721 - val_loss: 0.6026 - val_accuracy: 0.6911\n",
      "Epoch 35/100\n",
      "62/62 [==============================] - 0s 3ms/step - loss: 0.5810 - accuracy: 0.7189 - val_loss: 0.6035 - val_accuracy: 0.6829\n",
      "Epoch 36/100\n",
      "62/62 [==============================] - 0s 3ms/step - loss: 0.5948 - accuracy: 0.7026 - val_loss: 0.5973 - val_accuracy: 0.6829\n",
      "Epoch 37/100\n",
      "62/62 [==============================] - 0s 3ms/step - loss: 0.5779 - accuracy: 0.7006 - val_loss: 0.6011 - val_accuracy: 0.6911\n",
      "Epoch 38/100\n",
      "62/62 [==============================] - 0s 3ms/step - loss: 0.5779 - accuracy: 0.7088 - val_loss: 0.6394 - val_accuracy: 0.6423\n",
      "Epoch 39/100\n",
      "62/62 [==============================] - 0s 2ms/step - loss: 0.5827 - accuracy: 0.7169 - val_loss: 0.5988 - val_accuracy: 0.6585\n",
      "Epoch 40/100\n",
      "62/62 [==============================] - 0s 2ms/step - loss: 0.5739 - accuracy: 0.7047 - val_loss: 0.6194 - val_accuracy: 0.6504\n",
      "Epoch 41/100\n",
      "62/62 [==============================] - 0s 3ms/step - loss: 0.5756 - accuracy: 0.6965 - val_loss: 0.6117 - val_accuracy: 0.6911\n",
      "Epoch 42/100\n",
      "62/62 [==============================] - 0s 2ms/step - loss: 0.5788 - accuracy: 0.7189 - val_loss: 0.5818 - val_accuracy: 0.6667\n",
      "Epoch 43/100\n",
      "62/62 [==============================] - 0s 2ms/step - loss: 0.5729 - accuracy: 0.7006 - val_loss: 0.6306 - val_accuracy: 0.6911\n",
      "Epoch 44/100\n",
      "62/62 [==============================] - 0s 2ms/step - loss: 0.5865 - accuracy: 0.6864 - val_loss: 0.6028 - val_accuracy: 0.7236\n",
      "Epoch 45/100\n",
      "62/62 [==============================] - 0s 2ms/step - loss: 0.5581 - accuracy: 0.7210 - val_loss: 0.6001 - val_accuracy: 0.6911\n",
      "Epoch 46/100\n",
      "62/62 [==============================] - 0s 2ms/step - loss: 0.5890 - accuracy: 0.7026 - val_loss: 0.5928 - val_accuracy: 0.6911\n",
      "Epoch 47/100\n",
      "62/62 [==============================] - 0s 2ms/step - loss: 0.5729 - accuracy: 0.6965 - val_loss: 0.5950 - val_accuracy: 0.6748\n",
      "Epoch 48/100\n",
      "62/62 [==============================] - 0s 2ms/step - loss: 0.5684 - accuracy: 0.7189 - val_loss: 0.6036 - val_accuracy: 0.6504\n",
      "Epoch 49/100\n",
      "62/62 [==============================] - 0s 2ms/step - loss: 0.5638 - accuracy: 0.7291 - val_loss: 0.6264 - val_accuracy: 0.6585\n",
      "Epoch 50/100\n",
      "62/62 [==============================] - 0s 2ms/step - loss: 0.5737 - accuracy: 0.7169 - val_loss: 0.6157 - val_accuracy: 0.6911\n",
      "Epoch 51/100\n",
      "62/62 [==============================] - 0s 3ms/step - loss: 0.5645 - accuracy: 0.7128 - val_loss: 0.6023 - val_accuracy: 0.6829\n",
      "Epoch 52/100\n",
      "62/62 [==============================] - 0s 3ms/step - loss: 0.5879 - accuracy: 0.7047 - val_loss: 0.6209 - val_accuracy: 0.6748\n",
      "Epoch 53/100\n",
      "62/62 [==============================] - 0s 3ms/step - loss: 0.5749 - accuracy: 0.6965 - val_loss: 0.6628 - val_accuracy: 0.6098\n",
      "Epoch 54/100\n",
      "62/62 [==============================] - 0s 2ms/step - loss: 0.5875 - accuracy: 0.6965 - val_loss: 0.6295 - val_accuracy: 0.6911\n",
      "Epoch 55/100\n",
      "62/62 [==============================] - 0s 2ms/step - loss: 0.6017 - accuracy: 0.6986 - val_loss: 0.6113 - val_accuracy: 0.6667\n",
      "Epoch 56/100\n",
      "62/62 [==============================] - 0s 2ms/step - loss: 0.5621 - accuracy: 0.7088 - val_loss: 0.6145 - val_accuracy: 0.6748\n",
      "Epoch 57/100\n",
      "62/62 [==============================] - 0s 2ms/step - loss: 0.6002 - accuracy: 0.6965 - val_loss: 0.5867 - val_accuracy: 0.6911\n",
      "Epoch 58/100\n",
      "62/62 [==============================] - 0s 2ms/step - loss: 0.5851 - accuracy: 0.7006 - val_loss: 0.5913 - val_accuracy: 0.6829\n",
      "Epoch 59/100\n",
      "62/62 [==============================] - 0s 2ms/step - loss: 0.5656 - accuracy: 0.7169 - val_loss: 0.6162 - val_accuracy: 0.6829\n",
      "Epoch 60/100\n",
      "62/62 [==============================] - 0s 3ms/step - loss: 0.5540 - accuracy: 0.7291 - val_loss: 0.5940 - val_accuracy: 0.6748\n",
      "Epoch 61/100\n",
      "62/62 [==============================] - 0s 3ms/step - loss: 0.5464 - accuracy: 0.7373 - val_loss: 0.5969 - val_accuracy: 0.6667\n",
      "Epoch 62/100\n",
      "62/62 [==============================] - 0s 2ms/step - loss: 0.5765 - accuracy: 0.6884 - val_loss: 0.7074 - val_accuracy: 0.6179\n",
      "Epoch 63/100\n",
      "62/62 [==============================] - 0s 2ms/step - loss: 0.5509 - accuracy: 0.7413 - val_loss: 0.6016 - val_accuracy: 0.6829\n",
      "Epoch 64/100\n",
      "62/62 [==============================] - 0s 2ms/step - loss: 0.5640 - accuracy: 0.7189 - val_loss: 0.6239 - val_accuracy: 0.6911\n",
      "Epoch 65/100\n",
      "62/62 [==============================] - 0s 2ms/step - loss: 0.5456 - accuracy: 0.7393 - val_loss: 0.6425 - val_accuracy: 0.6585\n",
      "Epoch 66/100\n",
      "62/62 [==============================] - 0s 2ms/step - loss: 0.5546 - accuracy: 0.7291 - val_loss: 0.5774 - val_accuracy: 0.6911\n",
      "Epoch 67/100\n",
      "62/62 [==============================] - 0s 2ms/step - loss: 0.5672 - accuracy: 0.7026 - val_loss: 0.5861 - val_accuracy: 0.6748\n",
      "Epoch 68/100\n",
      "62/62 [==============================] - 0s 2ms/step - loss: 0.5683 - accuracy: 0.7169 - val_loss: 0.5982 - val_accuracy: 0.6748\n",
      "Epoch 69/100\n",
      "62/62 [==============================] - 0s 3ms/step - loss: 0.5628 - accuracy: 0.6965 - val_loss: 0.6004 - val_accuracy: 0.6585\n",
      "Epoch 70/100\n",
      "62/62 [==============================] - 0s 2ms/step - loss: 0.5815 - accuracy: 0.7149 - val_loss: 0.5860 - val_accuracy: 0.6829\n",
      "Epoch 71/100\n",
      "62/62 [==============================] - 0s 3ms/step - loss: 0.5630 - accuracy: 0.7149 - val_loss: 0.5901 - val_accuracy: 0.6829\n",
      "Epoch 72/100\n",
      "62/62 [==============================] - 0s 3ms/step - loss: 0.5490 - accuracy: 0.7149 - val_loss: 0.6407 - val_accuracy: 0.6585\n",
      "Epoch 73/100\n",
      "62/62 [==============================] - 0s 3ms/step - loss: 0.5446 - accuracy: 0.7271 - val_loss: 0.6093 - val_accuracy: 0.6748\n",
      "Epoch 74/100\n",
      "62/62 [==============================] - 0s 3ms/step - loss: 0.5652 - accuracy: 0.7128 - val_loss: 0.5849 - val_accuracy: 0.6829\n",
      "Epoch 75/100\n",
      "62/62 [==============================] - 0s 3ms/step - loss: 0.5611 - accuracy: 0.7189 - val_loss: 0.5873 - val_accuracy: 0.6911\n",
      "Epoch 76/100\n",
      "62/62 [==============================] - 0s 3ms/step - loss: 0.5519 - accuracy: 0.7210 - val_loss: 0.5992 - val_accuracy: 0.6911\n",
      "Epoch 77/100\n",
      "62/62 [==============================] - 0s 3ms/step - loss: 0.5705 - accuracy: 0.7128 - val_loss: 0.5965 - val_accuracy: 0.6829\n",
      "Epoch 78/100\n",
      "62/62 [==============================] - 0s 2ms/step - loss: 0.5622 - accuracy: 0.7047 - val_loss: 0.5979 - val_accuracy: 0.7073\n",
      "Epoch 79/100\n",
      "62/62 [==============================] - 0s 3ms/step - loss: 0.5423 - accuracy: 0.7332 - val_loss: 0.5914 - val_accuracy: 0.7073\n",
      "Epoch 80/100\n",
      "62/62 [==============================] - 0s 3ms/step - loss: 0.5543 - accuracy: 0.7332 - val_loss: 0.6068 - val_accuracy: 0.6911\n",
      "Epoch 81/100\n",
      "62/62 [==============================] - 0s 2ms/step - loss: 0.5530 - accuracy: 0.7413 - val_loss: 0.5785 - val_accuracy: 0.6829\n",
      "Epoch 82/100\n",
      "62/62 [==============================] - 0s 2ms/step - loss: 0.5412 - accuracy: 0.7332 - val_loss: 0.5807 - val_accuracy: 0.6829\n",
      "Epoch 83/100\n",
      "62/62 [==============================] - 0s 2ms/step - loss: 0.5531 - accuracy: 0.7312 - val_loss: 0.6136 - val_accuracy: 0.7154\n",
      "Epoch 84/100\n",
      "62/62 [==============================] - 0s 3ms/step - loss: 0.5527 - accuracy: 0.7291 - val_loss: 0.6596 - val_accuracy: 0.6585\n",
      "Epoch 85/100\n",
      "62/62 [==============================] - 0s 3ms/step - loss: 0.5656 - accuracy: 0.7149 - val_loss: 0.6066 - val_accuracy: 0.6992\n",
      "Epoch 86/100\n",
      "62/62 [==============================] - 0s 3ms/step - loss: 0.5419 - accuracy: 0.7312 - val_loss: 0.5774 - val_accuracy: 0.6992\n",
      "Epoch 87/100\n",
      "62/62 [==============================] - 0s 3ms/step - loss: 0.5392 - accuracy: 0.7495 - val_loss: 0.5747 - val_accuracy: 0.6748\n",
      "Epoch 88/100\n",
      "62/62 [==============================] - 0s 3ms/step - loss: 0.5495 - accuracy: 0.7495 - val_loss: 0.6291 - val_accuracy: 0.6992\n",
      "Epoch 89/100\n",
      "62/62 [==============================] - 0s 3ms/step - loss: 0.5339 - accuracy: 0.7373 - val_loss: 0.5820 - val_accuracy: 0.6748\n",
      "Epoch 90/100\n",
      "62/62 [==============================] - 0s 3ms/step - loss: 0.5840 - accuracy: 0.6986 - val_loss: 0.5793 - val_accuracy: 0.6829\n",
      "Epoch 91/100\n",
      "62/62 [==============================] - 0s 3ms/step - loss: 0.5435 - accuracy: 0.7312 - val_loss: 0.5801 - val_accuracy: 0.6829\n",
      "Epoch 92/100\n",
      "62/62 [==============================] - 0s 3ms/step - loss: 0.5409 - accuracy: 0.7434 - val_loss: 0.5914 - val_accuracy: 0.6911\n",
      "Epoch 93/100\n",
      "62/62 [==============================] - 0s 3ms/step - loss: 0.5477 - accuracy: 0.7352 - val_loss: 0.6359 - val_accuracy: 0.6829\n",
      "Epoch 94/100\n",
      "62/62 [==============================] - 0s 3ms/step - loss: 0.5463 - accuracy: 0.7434 - val_loss: 0.5907 - val_accuracy: 0.6829\n",
      "Epoch 95/100\n",
      "62/62 [==============================] - 0s 3ms/step - loss: 0.5369 - accuracy: 0.7413 - val_loss: 0.5723 - val_accuracy: 0.6829\n",
      "Epoch 96/100\n",
      "62/62 [==============================] - 0s 3ms/step - loss: 0.5317 - accuracy: 0.7413 - val_loss: 0.5851 - val_accuracy: 0.6748\n",
      "Epoch 97/100\n",
      "62/62 [==============================] - 0s 3ms/step - loss: 0.5447 - accuracy: 0.7312 - val_loss: 0.5852 - val_accuracy: 0.6992\n",
      "Epoch 98/100\n",
      "62/62 [==============================] - 0s 2ms/step - loss: 0.5606 - accuracy: 0.7312 - val_loss: 0.6424 - val_accuracy: 0.6748\n",
      "Epoch 99/100\n",
      "62/62 [==============================] - 0s 2ms/step - loss: 0.5610 - accuracy: 0.7169 - val_loss: 0.5750 - val_accuracy: 0.6748\n",
      "Epoch 100/100\n",
      "62/62 [==============================] - 0s 2ms/step - loss: 0.5422 - accuracy: 0.7230 - val_loss: 0.5753 - val_accuracy: 0.6992\n"
     ]
    },
    {
     "data": {
      "text/plain": [
       "<keras.callbacks.History at 0x227ecc56df0>"
      ]
     },
     "execution_count": 110,
     "metadata": {},
     "output_type": "execute_result"
    }
   ],
   "source": [
    "model.fit(X_train, y_train, epochs=100, batch_size=8,validation_data=(X_val,y_val))\n"
   ]
  },
  {
   "cell_type": "code",
   "execution_count": 114,
   "metadata": {},
   "outputs": [
    {
     "data": {
      "text/plain": [
       "<keras.engine.sequential.Sequential at 0x227eccdcee0>"
      ]
     },
     "execution_count": 114,
     "metadata": {},
     "output_type": "execute_result"
    }
   ],
   "source": [
    "model.save(\"mymodel.h5\")\n",
    "model=load_model(\"mymodel.h5\")\n",
    "model"
   ]
  },
  {
   "cell_type": "code",
   "execution_count": 115,
   "metadata": {},
   "outputs": [
    {
     "name": "stdout",
     "output_type": "stream",
     "text": [
      "5/5 [==============================] - 0s 1ms/step - loss: 0.5405 - accuracy: 0.7208\n"
     ]
    }
   ],
   "source": [
    "loss ,acc = model.evaluate(X_test,y_test)"
   ]
  },
  {
   "cell_type": "code",
   "execution_count": 129,
   "metadata": {},
   "outputs": [
    {
     "name": "stdout",
     "output_type": "stream",
     "text": [
      "1/1 [==============================] - 0s 23ms/step\n"
     ]
    },
    {
     "data": {
      "text/plain": [
       "array([[0.76110023]], dtype=float32)"
      ]
     },
     "execution_count": 129,
     "metadata": {},
     "output_type": "execute_result"
    }
   ],
   "source": [
    "X_new = [10,168,74,0,0,38.0,0.537,34]\n",
    "X_new= np.expand_dims(X_new,axis=0)\n",
    "y_predict = model.predict(X_new)\n",
    "y_predict"
   ]
  },
  {
   "cell_type": "code",
   "execution_count": 144,
   "metadata": {},
   "outputs": [
    {
     "name": "stdout",
     "output_type": "stream",
     "text": [
      "AM tinh Tieu duong\n"
     ]
    }
   ],
   "source": [
    "if y_predict <0.5:\n",
    "    print(\"AM tinh Tieu duong\")\n",
    "else:\n",
    "    print(\"DUong tinh tieu duong\")"
   ]
  },
  {
   "cell_type": "code",
   "execution_count": 161,
   "metadata": {},
   "outputs": [
    {
     "name": "stdout",
     "output_type": "stream",
     "text": [
      "1/1 [==============================] - 0s 22ms/step\n"
     ]
    },
    {
     "data": {
      "text/plain": [
       "array([[0.28293768]], dtype=float32)"
      ]
     },
     "execution_count": 161,
     "metadata": {},
     "output_type": "execute_result"
    }
   ],
   "source": [
    "X_new1 = df.loc[5,0:7]\n",
    "X_new1= np.expand_dims(X_new1,axis=0)\n",
    "\n",
    "y_predict = model.predict(X_new1)\n",
    "y_predict"
   ]
  },
  {
   "cell_type": "code",
   "execution_count": null,
   "metadata": {},
   "outputs": [],
   "source": []
  }
 ],
 "metadata": {
  "kernelspec": {
   "display_name": "Python 3.9.13 64-bit (microsoft store)",
   "language": "python",
   "name": "python3"
  },
  "language_info": {
   "codemirror_mode": {
    "name": "ipython",
    "version": 3
   },
   "file_extension": ".py",
   "mimetype": "text/x-python",
   "name": "python",
   "nbconvert_exporter": "python",
   "pygments_lexer": "ipython3",
   "version": "3.9.13"
  },
  "orig_nbformat": 4,
  "vscode": {
   "interpreter": {
    "hash": "45c983ac0ead693fe3b11fb7ac790579d1aca2a74fa6fec68b2917b4676c18c2"
   }
  }
 },
 "nbformat": 4,
 "nbformat_minor": 2
}
