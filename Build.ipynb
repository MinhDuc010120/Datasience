{
 "cells": [
  {
   "cell_type": "code",
   "execution_count": 1,
   "metadata": {},
   "outputs": [],
   "source": [
    "import pandas as pd \n",
    "import numpy as np\n",
    "import matplotlib.pyplot as plt\n",
    "\n",
    "from sklearn.preprocessing import MinMaxScaler\n",
    "from sklearn.model_selection import train_test_split\n",
    "from sklearn.tree import DecisionTreeClassifier\n",
    "from sklearn.linear_model import LogisticRegression\n",
    "from sklearn.metrics import accuracy_score"
   ]
  },
  {
   "cell_type": "code",
   "execution_count": 34,
   "metadata": {},
   "outputs": [
    {
     "data": {
      "text/html": [
       "<div>\n",
       "<style scoped>\n",
       "    .dataframe tbody tr th:only-of-type {\n",
       "        vertical-align: middle;\n",
       "    }\n",
       "\n",
       "    .dataframe tbody tr th {\n",
       "        vertical-align: top;\n",
       "    }\n",
       "\n",
       "    .dataframe thead th {\n",
       "        text-align: right;\n",
       "    }\n",
       "</style>\n",
       "<table border=\"1\" class=\"dataframe\">\n",
       "  <thead>\n",
       "    <tr style=\"text-align: right;\">\n",
       "      <th></th>\n",
       "      <th>country</th>\n",
       "      <th>happiness</th>\n",
       "      <th>income</th>\n",
       "      <th>lifeexp</th>\n",
       "      <th>sanitation</th>\n",
       "      <th>water</th>\n",
       "      <th>urbanpopulation</th>\n",
       "      <th>unemployment</th>\n",
       "      <th>literacy</th>\n",
       "      <th>inequality</th>\n",
       "      <th>murder</th>\n",
       "      <th>energy</th>\n",
       "      <th>childmortality</th>\n",
       "      <th>fertility</th>\n",
       "      <th>hiv</th>\n",
       "      <th>foodsupply</th>\n",
       "      <th>population</th>\n",
       "    </tr>\n",
       "  </thead>\n",
       "  <tbody>\n",
       "    <tr>\n",
       "      <th>0</th>\n",
       "      <td>Afghanistan</td>\n",
       "      <td>3.982855</td>\n",
       "      <td>1750.0</td>\n",
       "      <td>57.9</td>\n",
       "      <td>39.2</td>\n",
       "      <td>63.0</td>\n",
       "      <td>11.0</td>\n",
       "      <td>NaN</td>\n",
       "      <td>39.0</td>\n",
       "      <td>NaN</td>\n",
       "      <td>NaN</td>\n",
       "      <td>NaN</td>\n",
       "      <td>73.2</td>\n",
       "      <td>4.80</td>\n",
       "      <td>5800.0</td>\n",
       "      <td>2090.0</td>\n",
       "      <td>33700000</td>\n",
       "    </tr>\n",
       "    <tr>\n",
       "      <th>1</th>\n",
       "      <td>Albania</td>\n",
       "      <td>4.606651</td>\n",
       "      <td>11000.0</td>\n",
       "      <td>77.6</td>\n",
       "      <td>97.7</td>\n",
       "      <td>91.4</td>\n",
       "      <td>NaN</td>\n",
       "      <td>6.090</td>\n",
       "      <td>96.8</td>\n",
       "      <td>29.0</td>\n",
       "      <td>2.30</td>\n",
       "      <td>808.0</td>\n",
       "      <td>14.0</td>\n",
       "      <td>1.71</td>\n",
       "      <td>NaN</td>\n",
       "      <td>3190.0</td>\n",
       "      <td>2920000</td>\n",
       "    </tr>\n",
       "    <tr>\n",
       "      <th>2</th>\n",
       "      <td>Argentina</td>\n",
       "      <td>6.697131</td>\n",
       "      <td>19100.0</td>\n",
       "      <td>76.5</td>\n",
       "      <td>94.8</td>\n",
       "      <td>99.6</td>\n",
       "      <td>43.1</td>\n",
       "      <td>0.856</td>\n",
       "      <td>97.9</td>\n",
       "      <td>41.4</td>\n",
       "      <td>4.65</td>\n",
       "      <td>2020.0</td>\n",
       "      <td>11.6</td>\n",
       "      <td>2.31</td>\n",
       "      <td>95000.0</td>\n",
       "      <td>3230.0</td>\n",
       "      <td>43400000</td>\n",
       "    </tr>\n",
       "    <tr>\n",
       "      <th>3</th>\n",
       "      <td>Armenia</td>\n",
       "      <td>4.348320</td>\n",
       "      <td>8180.0</td>\n",
       "      <td>75.4</td>\n",
       "      <td>91.6</td>\n",
       "      <td>98.9</td>\n",
       "      <td>36.7</td>\n",
       "      <td>7.110</td>\n",
       "      <td>99.6</td>\n",
       "      <td>32.4</td>\n",
       "      <td>1.12</td>\n",
       "      <td>1020.0</td>\n",
       "      <td>14.0</td>\n",
       "      <td>1.66</td>\n",
       "      <td>3600.0</td>\n",
       "      <td>2930.0</td>\n",
       "      <td>2920000</td>\n",
       "    </tr>\n",
       "    <tr>\n",
       "      <th>4</th>\n",
       "      <td>Australia</td>\n",
       "      <td>7.309061</td>\n",
       "      <td>43800.0</td>\n",
       "      <td>82.6</td>\n",
       "      <td>100.0</td>\n",
       "      <td>100.0</td>\n",
       "      <td>60.2</td>\n",
       "      <td>1.240</td>\n",
       "      <td>NaN</td>\n",
       "      <td>34.7</td>\n",
       "      <td>1.11</td>\n",
       "      <td>5480.0</td>\n",
       "      <td>3.8</td>\n",
       "      <td>1.86</td>\n",
       "      <td>22000.0</td>\n",
       "      <td>3280.0</td>\n",
       "      <td>23800000</td>\n",
       "    </tr>\n",
       "  </tbody>\n",
       "</table>\n",
       "</div>"
      ],
      "text/plain": [
       "       country  happiness   income  lifeexp  sanitation  water  \\\n",
       "0  Afghanistan   3.982855   1750.0     57.9        39.2   63.0   \n",
       "1      Albania   4.606651  11000.0     77.6        97.7   91.4   \n",
       "2    Argentina   6.697131  19100.0     76.5        94.8   99.6   \n",
       "3      Armenia   4.348320   8180.0     75.4        91.6   98.9   \n",
       "4    Australia   7.309061  43800.0     82.6       100.0  100.0   \n",
       "\n",
       "   urbanpopulation  unemployment  literacy  inequality  murder  energy  \\\n",
       "0             11.0           NaN      39.0         NaN     NaN     NaN   \n",
       "1              NaN         6.090      96.8        29.0    2.30   808.0   \n",
       "2             43.1         0.856      97.9        41.4    4.65  2020.0   \n",
       "3             36.7         7.110      99.6        32.4    1.12  1020.0   \n",
       "4             60.2         1.240       NaN        34.7    1.11  5480.0   \n",
       "\n",
       "   childmortality  fertility      hiv  foodsupply  population  \n",
       "0            73.2       4.80   5800.0      2090.0    33700000  \n",
       "1            14.0       1.71      NaN      3190.0     2920000  \n",
       "2            11.6       2.31  95000.0      3230.0    43400000  \n",
       "3            14.0       1.66   3600.0      2930.0     2920000  \n",
       "4             3.8       1.86  22000.0      3280.0    23800000  "
      ]
     },
     "execution_count": 34,
     "metadata": {},
     "output_type": "execute_result"
    }
   ],
   "source": [
    "dataset= pd.read_csv(\"world_data.csv\")\n",
    "dataset.head()"
   ]
  },
  {
   "cell_type": "code",
   "execution_count": 5,
   "metadata": {},
   "outputs": [
    {
     "data": {
      "text/plain": [
       "(194, 17)"
      ]
     },
     "execution_count": 5,
     "metadata": {},
     "output_type": "execute_result"
    }
   ],
   "source": [
    "dataset.shape"
   ]
  },
  {
   "cell_type": "code",
   "execution_count": 6,
   "metadata": {},
   "outputs": [
    {
     "data": {
      "text/plain": [
       "country             object\n",
       "happiness          float64\n",
       "income             float64\n",
       "lifeexp            float64\n",
       "sanitation         float64\n",
       "water              float64\n",
       "urbanpopulation    float64\n",
       "unemployment       float64\n",
       "literacy           float64\n",
       "inequality         float64\n",
       "murder             float64\n",
       "energy             float64\n",
       "childmortality     float64\n",
       "fertility          float64\n",
       "hiv                float64\n",
       "foodsupply         float64\n",
       "population           int64\n",
       "dtype: object"
      ]
     },
     "execution_count": 6,
     "metadata": {},
     "output_type": "execute_result"
    }
   ],
   "source": [
    "dataset.dtypes"
   ]
  },
  {
   "cell_type": "code",
   "execution_count": 9,
   "metadata": {},
   "outputs": [
    {
     "data": {
      "text/plain": [
       "country              0\n",
       "water                0\n",
       "sanitation           0\n",
       "population           0\n",
       "income               1\n",
       "childmortality       1\n",
       "lifeexp              7\n",
       "fertility           10\n",
       "energy              25\n",
       "foodsupply          26\n",
       "inequality          34\n",
       "hiv                 45\n",
       "literacy            45\n",
       "happiness           54\n",
       "urbanpopulation     75\n",
       "unemployment        82\n",
       "murder             101\n",
       "dtype: int64"
      ]
     },
     "execution_count": 9,
     "metadata": {},
     "output_type": "execute_result"
    }
   ],
   "source": [
    "dataset.isnull().sum().sort_values()"
   ]
  },
  {
   "cell_type": "code",
   "execution_count": 19,
   "metadata": {},
   "outputs": [
    {
     "name": "stdout",
     "output_type": "stream",
     "text": [
      "<class 'pandas.core.frame.DataFrame'>\n",
      "RangeIndex: 194 entries, 0 to 193\n",
      "Data columns (total 14 columns):\n",
      " #   Column          Non-Null Count  Dtype  \n",
      "---  ------          --------------  -----  \n",
      " 0   country         194 non-null    object \n",
      " 1   happiness       140 non-null    float64\n",
      " 2   income          193 non-null    float64\n",
      " 3   lifeexp         187 non-null    float64\n",
      " 4   sanitation      194 non-null    float64\n",
      " 5   water           194 non-null    float64\n",
      " 6   literacy        149 non-null    float64\n",
      " 7   inequality      160 non-null    float64\n",
      " 8   energy          169 non-null    float64\n",
      " 9   childmortality  193 non-null    float64\n",
      " 10  fertility       184 non-null    float64\n",
      " 11  hiv             149 non-null    float64\n",
      " 12  foodsupply      168 non-null    float64\n",
      " 13  population      194 non-null    int64  \n",
      "dtypes: float64(12), int64(1), object(1)\n",
      "memory usage: 21.3+ KB\n"
     ]
    }
   ],
   "source": [
    "dataset.info()"
   ]
  },
  {
   "cell_type": "markdown",
   "metadata": {},
   "source": [
    "Clean data\n",
    "Some of these features (murder, urbanpopulation, unemployment) are very sparsely populated. If we were to impute the nulls, we would be estimating a large number of values. I am going to discard them for now. I may come back to these again later (remember, this is an iterative process)."
   ]
  },
  {
   "cell_type": "code",
   "execution_count": 35,
   "metadata": {},
   "outputs": [],
   "source": [
    "# Discard very sparse features\n",
    "dataset = dataset.drop([\"murder\",\"urbanpopulation\",\"unemployment\"], axis=1)"
   ]
  },
  {
   "cell_type": "code",
   "execution_count": 36,
   "metadata": {},
   "outputs": [
    {
     "data": {
      "text/html": [
       "<div>\n",
       "<style scoped>\n",
       "    .dataframe tbody tr th:only-of-type {\n",
       "        vertical-align: middle;\n",
       "    }\n",
       "\n",
       "    .dataframe tbody tr th {\n",
       "        vertical-align: top;\n",
       "    }\n",
       "\n",
       "    .dataframe thead th {\n",
       "        text-align: right;\n",
       "    }\n",
       "</style>\n",
       "<table border=\"1\" class=\"dataframe\">\n",
       "  <thead>\n",
       "    <tr style=\"text-align: right;\">\n",
       "      <th></th>\n",
       "      <th>country</th>\n",
       "      <th>happiness</th>\n",
       "      <th>income</th>\n",
       "      <th>lifeexp</th>\n",
       "      <th>sanitation</th>\n",
       "      <th>water</th>\n",
       "      <th>literacy</th>\n",
       "      <th>inequality</th>\n",
       "      <th>energy</th>\n",
       "      <th>childmortality</th>\n",
       "      <th>fertility</th>\n",
       "      <th>hiv</th>\n",
       "      <th>foodsupply</th>\n",
       "      <th>population</th>\n",
       "    </tr>\n",
       "  </thead>\n",
       "  <tbody>\n",
       "    <tr>\n",
       "      <th>0</th>\n",
       "      <td>Afghanistan</td>\n",
       "      <td>3.982855</td>\n",
       "      <td>1750.0</td>\n",
       "      <td>57.9</td>\n",
       "      <td>39.2</td>\n",
       "      <td>63.0</td>\n",
       "      <td>39.0</td>\n",
       "      <td>NaN</td>\n",
       "      <td>NaN</td>\n",
       "      <td>73.2</td>\n",
       "      <td>4.80</td>\n",
       "      <td>5800.0</td>\n",
       "      <td>2090.0</td>\n",
       "      <td>33700000</td>\n",
       "    </tr>\n",
       "    <tr>\n",
       "      <th>1</th>\n",
       "      <td>Albania</td>\n",
       "      <td>4.606651</td>\n",
       "      <td>11000.0</td>\n",
       "      <td>77.6</td>\n",
       "      <td>97.7</td>\n",
       "      <td>91.4</td>\n",
       "      <td>96.8</td>\n",
       "      <td>29.0</td>\n",
       "      <td>808.0</td>\n",
       "      <td>14.0</td>\n",
       "      <td>1.71</td>\n",
       "      <td>NaN</td>\n",
       "      <td>3190.0</td>\n",
       "      <td>2920000</td>\n",
       "    </tr>\n",
       "    <tr>\n",
       "      <th>2</th>\n",
       "      <td>Argentina</td>\n",
       "      <td>6.697131</td>\n",
       "      <td>19100.0</td>\n",
       "      <td>76.5</td>\n",
       "      <td>94.8</td>\n",
       "      <td>99.6</td>\n",
       "      <td>97.9</td>\n",
       "      <td>41.4</td>\n",
       "      <td>2020.0</td>\n",
       "      <td>11.6</td>\n",
       "      <td>2.31</td>\n",
       "      <td>95000.0</td>\n",
       "      <td>3230.0</td>\n",
       "      <td>43400000</td>\n",
       "    </tr>\n",
       "    <tr>\n",
       "      <th>3</th>\n",
       "      <td>Armenia</td>\n",
       "      <td>4.348320</td>\n",
       "      <td>8180.0</td>\n",
       "      <td>75.4</td>\n",
       "      <td>91.6</td>\n",
       "      <td>98.9</td>\n",
       "      <td>99.6</td>\n",
       "      <td>32.4</td>\n",
       "      <td>1020.0</td>\n",
       "      <td>14.0</td>\n",
       "      <td>1.66</td>\n",
       "      <td>3600.0</td>\n",
       "      <td>2930.0</td>\n",
       "      <td>2920000</td>\n",
       "    </tr>\n",
       "    <tr>\n",
       "      <th>4</th>\n",
       "      <td>Australia</td>\n",
       "      <td>7.309061</td>\n",
       "      <td>43800.0</td>\n",
       "      <td>82.6</td>\n",
       "      <td>100.0</td>\n",
       "      <td>100.0</td>\n",
       "      <td>NaN</td>\n",
       "      <td>34.7</td>\n",
       "      <td>5480.0</td>\n",
       "      <td>3.8</td>\n",
       "      <td>1.86</td>\n",
       "      <td>22000.0</td>\n",
       "      <td>3280.0</td>\n",
       "      <td>23800000</td>\n",
       "    </tr>\n",
       "  </tbody>\n",
       "</table>\n",
       "</div>"
      ],
      "text/plain": [
       "       country  happiness   income  lifeexp  sanitation  water  literacy  \\\n",
       "0  Afghanistan   3.982855   1750.0     57.9        39.2   63.0      39.0   \n",
       "1      Albania   4.606651  11000.0     77.6        97.7   91.4      96.8   \n",
       "2    Argentina   6.697131  19100.0     76.5        94.8   99.6      97.9   \n",
       "3      Armenia   4.348320   8180.0     75.4        91.6   98.9      99.6   \n",
       "4    Australia   7.309061  43800.0     82.6       100.0  100.0       NaN   \n",
       "\n",
       "   inequality  energy  childmortality  fertility      hiv  foodsupply  \\\n",
       "0         NaN     NaN            73.2       4.80   5800.0      2090.0   \n",
       "1        29.0   808.0            14.0       1.71      NaN      3190.0   \n",
       "2        41.4  2020.0            11.6       2.31  95000.0      3230.0   \n",
       "3        32.4  1020.0            14.0       1.66   3600.0      2930.0   \n",
       "4        34.7  5480.0             3.8       1.86  22000.0      3280.0   \n",
       "\n",
       "   population  \n",
       "0    33700000  \n",
       "1     2920000  \n",
       "2    43400000  \n",
       "3     2920000  \n",
       "4    23800000  "
      ]
     },
     "execution_count": 36,
     "metadata": {},
     "output_type": "execute_result"
    }
   ],
   "source": [
    "dataset.head()"
   ]
  },
  {
   "cell_type": "code",
   "execution_count": 39,
   "metadata": {},
   "outputs": [
    {
     "data": {
      "text/plain": [
       "country            0\n",
       "sanitation         0\n",
       "water              0\n",
       "population         0\n",
       "income             1\n",
       "childmortality     1\n",
       "lifeexp            7\n",
       "fertility         10\n",
       "energy            25\n",
       "foodsupply        26\n",
       "inequality        34\n",
       "literacy          45\n",
       "hiv               45\n",
       "happiness         54\n",
       "dtype: int64"
      ]
     },
     "execution_count": 39,
     "metadata": {},
     "output_type": "execute_result"
    }
   ],
   "source": [
    "dataset.isnull().sum().sort_values()"
   ]
  },
  {
   "cell_type": "markdown",
   "metadata": {},
   "source": [
    "# Dien tat ca cac gia tri null bang vong lap"
   ]
  },
  {
   "cell_type": "code",
   "execution_count": 45,
   "metadata": {},
   "outputs": [
    {
     "name": "stderr",
     "output_type": "stream",
     "text": [
      "C:\\Users\\minhd\\AppData\\Local\\Temp\\ipykernel_7248\\569043488.py:2: FutureWarning: Dropping of nuisance columns in DataFrame reductions (with 'numeric_only=None') is deprecated; in a future version this will raise TypeError.  Select only valid columns before calling the reduction.\n",
      "  means = dataset.mean().to_dict()\n"
     ]
    }
   ],
   "source": [
    "# Compute the mean for each feature\n",
    "means = dataset.mean().to_dict()\n",
    "\n",
    "# Impute each null with the mean of that feature\n",
    "for m in means:\n",
    "    dataset[m] = dataset[m].fillna(value=means[m])"
   ]
  },
  {
   "cell_type": "code",
   "execution_count": 43,
   "metadata": {},
   "outputs": [
    {
     "data": {
      "text/plain": [
       "country           0\n",
       "happiness         0\n",
       "income            0\n",
       "lifeexp           0\n",
       "sanitation        0\n",
       "water             0\n",
       "literacy          0\n",
       "inequality        0\n",
       "energy            0\n",
       "childmortality    0\n",
       "fertility         0\n",
       "hiv               0\n",
       "foodsupply        0\n",
       "population        0\n",
       "dtype: int64"
      ]
     },
     "execution_count": 43,
     "metadata": {},
     "output_type": "execute_result"
    }
   ],
   "source": [
    "# Check for nulls\n",
    "dataset.isnull().sum()"
   ]
  },
  {
   "cell_type": "code",
   "execution_count": 46,
   "metadata": {},
   "outputs": [
    {
     "data": {
      "text/html": [
       "<div>\n",
       "<style scoped>\n",
       "    .dataframe tbody tr th:only-of-type {\n",
       "        vertical-align: middle;\n",
       "    }\n",
       "\n",
       "    .dataframe tbody tr th {\n",
       "        vertical-align: top;\n",
       "    }\n",
       "\n",
       "    .dataframe thead th {\n",
       "        text-align: right;\n",
       "    }\n",
       "</style>\n",
       "<table border=\"1\" class=\"dataframe\">\n",
       "  <thead>\n",
       "    <tr style=\"text-align: right;\">\n",
       "      <th></th>\n",
       "      <th>happiness</th>\n",
       "      <th>income</th>\n",
       "      <th>lifeexp</th>\n",
       "      <th>sanitation</th>\n",
       "      <th>water</th>\n",
       "      <th>literacy</th>\n",
       "      <th>inequality</th>\n",
       "      <th>energy</th>\n",
       "      <th>childmortality</th>\n",
       "      <th>fertility</th>\n",
       "      <th>hiv</th>\n",
       "      <th>foodsupply</th>\n",
       "      <th>population</th>\n",
       "    </tr>\n",
       "  </thead>\n",
       "  <tbody>\n",
       "    <tr>\n",
       "      <th>count</th>\n",
       "      <td>194.000000</td>\n",
       "      <td>194.000000</td>\n",
       "      <td>194.000000</td>\n",
       "      <td>194.000000</td>\n",
       "      <td>194.000000</td>\n",
       "      <td>194.000000</td>\n",
       "      <td>194.000000</td>\n",
       "      <td>194.000000</td>\n",
       "      <td>194.000000</td>\n",
       "      <td>194.000000</td>\n",
       "      <td>1.940000e+02</td>\n",
       "      <td>194.000000</td>\n",
       "      <td>1.940000e+02</td>\n",
       "    </tr>\n",
       "    <tr>\n",
       "      <th>mean</th>\n",
       "      <td>5.395765</td>\n",
       "      <td>17432.849741</td>\n",
       "      <td>71.933690</td>\n",
       "      <td>73.838247</td>\n",
       "      <td>86.329381</td>\n",
       "      <td>81.573826</td>\n",
       "      <td>38.579375</td>\n",
       "      <td>2183.725325</td>\n",
       "      <td>31.441451</td>\n",
       "      <td>2.835924</td>\n",
       "      <td>2.179917e+05</td>\n",
       "      <td>2845.952381</td>\n",
       "      <td>3.787195e+07</td>\n",
       "    </tr>\n",
       "    <tr>\n",
       "      <th>std</th>\n",
       "      <td>0.953547</td>\n",
       "      <td>19072.580021</td>\n",
       "      <td>7.466359</td>\n",
       "      <td>29.269367</td>\n",
       "      <td>17.568245</td>\n",
       "      <td>17.055722</td>\n",
       "      <td>7.257464</td>\n",
       "      <td>2618.536430</td>\n",
       "      <td>31.237992</td>\n",
       "      <td>1.336162</td>\n",
       "      <td>5.521169e+05</td>\n",
       "      <td>413.199619</td>\n",
       "      <td>1.419670e+08</td>\n",
       "    </tr>\n",
       "    <tr>\n",
       "      <th>min</th>\n",
       "      <td>2.701591</td>\n",
       "      <td>623.000000</td>\n",
       "      <td>49.600000</td>\n",
       "      <td>7.080000</td>\n",
       "      <td>19.300000</td>\n",
       "      <td>25.300000</td>\n",
       "      <td>16.600000</td>\n",
       "      <td>9.580000</td>\n",
       "      <td>2.200000</td>\n",
       "      <td>1.240000</td>\n",
       "      <td>6.000000e+01</td>\n",
       "      <td>1880.000000</td>\n",
       "      <td>1.100000e+04</td>\n",
       "    </tr>\n",
       "    <tr>\n",
       "      <th>25%</th>\n",
       "      <td>4.891838</td>\n",
       "      <td>3297.500000</td>\n",
       "      <td>66.425000</td>\n",
       "      <td>49.225000</td>\n",
       "      <td>77.900000</td>\n",
       "      <td>75.575000</td>\n",
       "      <td>34.000000</td>\n",
       "      <td>614.500000</td>\n",
       "      <td>8.200000</td>\n",
       "      <td>1.790000</td>\n",
       "      <td>1.025000e+04</td>\n",
       "      <td>2570.000000</td>\n",
       "      <td>1.982500e+06</td>\n",
       "    </tr>\n",
       "    <tr>\n",
       "      <th>50%</th>\n",
       "      <td>5.395765</td>\n",
       "      <td>11050.000000</td>\n",
       "      <td>72.550000</td>\n",
       "      <td>87.900000</td>\n",
       "      <td>94.950000</td>\n",
       "      <td>81.573826</td>\n",
       "      <td>38.579375</td>\n",
       "      <td>1565.000000</td>\n",
       "      <td>17.900000</td>\n",
       "      <td>2.415000</td>\n",
       "      <td>7.000000e+04</td>\n",
       "      <td>2845.952381</td>\n",
       "      <td>8.435000e+06</td>\n",
       "    </tr>\n",
       "    <tr>\n",
       "      <th>75%</th>\n",
       "      <td>5.880369</td>\n",
       "      <td>24100.000000</td>\n",
       "      <td>77.400000</td>\n",
       "      <td>97.700000</td>\n",
       "      <td>99.300000</td>\n",
       "      <td>95.375000</td>\n",
       "      <td>42.175000</td>\n",
       "      <td>2425.000000</td>\n",
       "      <td>49.225000</td>\n",
       "      <td>3.687500</td>\n",
       "      <td>2.179917e+05</td>\n",
       "      <td>3140.000000</td>\n",
       "      <td>2.742500e+07</td>\n",
       "    </tr>\n",
       "    <tr>\n",
       "      <th>max</th>\n",
       "      <td>7.603434</td>\n",
       "      <td>120000.000000</td>\n",
       "      <td>83.800000</td>\n",
       "      <td>100.000000</td>\n",
       "      <td>100.000000</td>\n",
       "      <td>100.000000</td>\n",
       "      <td>63.000000</td>\n",
       "      <td>18600.000000</td>\n",
       "      <td>137.000000</td>\n",
       "      <td>7.290000</td>\n",
       "      <td>5.600000e+06</td>\n",
       "      <td>3770.000000</td>\n",
       "      <td>1.400000e+09</td>\n",
       "    </tr>\n",
       "  </tbody>\n",
       "</table>\n",
       "</div>"
      ],
      "text/plain": [
       "        happiness         income     lifeexp  sanitation       water  \\\n",
       "count  194.000000     194.000000  194.000000  194.000000  194.000000   \n",
       "mean     5.395765   17432.849741   71.933690   73.838247   86.329381   \n",
       "std      0.953547   19072.580021    7.466359   29.269367   17.568245   \n",
       "min      2.701591     623.000000   49.600000    7.080000   19.300000   \n",
       "25%      4.891838    3297.500000   66.425000   49.225000   77.900000   \n",
       "50%      5.395765   11050.000000   72.550000   87.900000   94.950000   \n",
       "75%      5.880369   24100.000000   77.400000   97.700000   99.300000   \n",
       "max      7.603434  120000.000000   83.800000  100.000000  100.000000   \n",
       "\n",
       "         literacy  inequality        energy  childmortality   fertility  \\\n",
       "count  194.000000  194.000000    194.000000      194.000000  194.000000   \n",
       "mean    81.573826   38.579375   2183.725325       31.441451    2.835924   \n",
       "std     17.055722    7.257464   2618.536430       31.237992    1.336162   \n",
       "min     25.300000   16.600000      9.580000        2.200000    1.240000   \n",
       "25%     75.575000   34.000000    614.500000        8.200000    1.790000   \n",
       "50%     81.573826   38.579375   1565.000000       17.900000    2.415000   \n",
       "75%     95.375000   42.175000   2425.000000       49.225000    3.687500   \n",
       "max    100.000000   63.000000  18600.000000      137.000000    7.290000   \n",
       "\n",
       "                hiv   foodsupply    population  \n",
       "count  1.940000e+02   194.000000  1.940000e+02  \n",
       "mean   2.179917e+05  2845.952381  3.787195e+07  \n",
       "std    5.521169e+05   413.199619  1.419670e+08  \n",
       "min    6.000000e+01  1880.000000  1.100000e+04  \n",
       "25%    1.025000e+04  2570.000000  1.982500e+06  \n",
       "50%    7.000000e+04  2845.952381  8.435000e+06  \n",
       "75%    2.179917e+05  3140.000000  2.742500e+07  \n",
       "max    5.600000e+06  3770.000000  1.400000e+09  "
      ]
     },
     "execution_count": 46,
     "metadata": {},
     "output_type": "execute_result"
    }
   ],
   "source": [
    "# Compute descriptive stats\n",
    "dataset.describe()"
   ]
  },
  {
   "cell_type": "markdown",
   "metadata": {},
   "source": [
    "Visualise\n",
    "A correlation matrix can be used to spot correlations between the features."
   ]
  },
  {
   "cell_type": "code",
   "execution_count": 48,
   "metadata": {},
   "outputs": [],
   "source": [
    "\n",
    "def correlationMatrix(df):\n",
    "    '''Show a correlation matrix for all features.'''\n",
    "    columns = df.select_dtypes(include=['float64','int64']).columns\n",
    "    fig = plt.figure(figsize=(10,10))\n",
    "    ax = fig.add_subplot(111)\n",
    "    cax = ax.matshow(df.corr(), vmin=-1, vmax=1, interpolation='none',cmap='RdYlBu')\n",
    "    fig.colorbar(cax)\n",
    "    ax.set_xticks(np.arange(len(columns)))\n",
    "    ax.set_yticks(np.arange(len(columns)))\n",
    "    ax.set_xticklabels(columns, rotation = 90)\n",
    "    ax.set_yticklabels(columns)\n",
    "    plt.show()  "
   ]
  },
  {
   "cell_type": "code",
   "execution_count": 49,
   "metadata": {},
   "outputs": [
    {
     "data": {
      "image/png": "[encoded data removed]",
      "text/plain": [
       "<Figure size 720x720 with 2 Axes>"
      ]
     },
     "metadata": {
      "needs_background": "light"
     },
     "output_type": "display_data"
    }
   ],
   "source": [
    "# Display a correlation matrix\n",
    "correlationMatrix(dataset)"
   ]
  },
  {
   "cell_type": "code",
   "execution_count": 51,
   "metadata": {},
   "outputs": [],
   "source": [
    "def appendEqualCountsClass(df, class_name, feature, num_bins, labels):\n",
    "    '''Append a new class feature named 'class_name' based on a split of 'feature' into clases with equal sample points.  Class names are in 'labels'.'''\n",
    "\n",
    "    # Compute the bin boundaries\n",
    "    percentiles = np.linspace(0,100,num_bins+1)\n",
    "    bins = np.percentile(df[feature],percentiles)\n",
    "\n",
    "    # Split the data into bins\n",
    "    n = pd.cut(df[feature], bins = bins, labels=labels, include_lowest=True)\n",
    "\n",
    "    # Add the new binned feature to a copy of the data\n",
    "    c = df.copy()\n",
    "    c[class_name] = n\n",
    "    return c    "
   ]
  },
  {
   "cell_type": "code",
   "execution_count": 52,
   "metadata": {},
   "outputs": [],
   "source": [
    "# Bin lifexp into L, M and H bands\n",
    "dataset = appendEqualCountsClass(dataset, \"lifeexp_band\", \"lifeexp\", 3, [\"L\",\"M\",\"H\"])"
   ]
  },
  {
   "cell_type": "code",
   "execution_count": 53,
   "metadata": {},
   "outputs": [
    {
     "data": {
      "text/plain": [
       "L    65\n",
       "H    65\n",
       "M    64\n",
       "Name: lifeexp_band, dtype: int64"
      ]
     },
     "execution_count": 53,
     "metadata": {},
     "output_type": "execute_result"
    }
   ],
   "source": [
    "# Check how many rows in each bin\n",
    "dataset.lifeexp_band.value_counts()"
   ]
  },
  {
   "cell_type": "code",
   "execution_count": 54,
   "metadata": {},
   "outputs": [
    {
     "data": {
      "text/html": [
       "<div>\n",
       "<style scoped>\n",
       "    .dataframe tbody tr th:only-of-type {\n",
       "        vertical-align: middle;\n",
       "    }\n",
       "\n",
       "    .dataframe tbody tr th {\n",
       "        vertical-align: top;\n",
       "    }\n",
       "\n",
       "    .dataframe thead th {\n",
       "        text-align: right;\n",
       "    }\n",
       "</style>\n",
       "<table border=\"1\" class=\"dataframe\">\n",
       "  <thead>\n",
       "    <tr style=\"text-align: right;\">\n",
       "      <th></th>\n",
       "      <th>lifeexp</th>\n",
       "      <th>lifeexp_band</th>\n",
       "    </tr>\n",
       "  </thead>\n",
       "  <tbody>\n",
       "    <tr>\n",
       "      <th>0</th>\n",
       "      <td>57.9</td>\n",
       "      <td>L</td>\n",
       "    </tr>\n",
       "    <tr>\n",
       "      <th>1</th>\n",
       "      <td>77.6</td>\n",
       "      <td>H</td>\n",
       "    </tr>\n",
       "    <tr>\n",
       "      <th>2</th>\n",
       "      <td>76.5</td>\n",
       "      <td>H</td>\n",
       "    </tr>\n",
       "    <tr>\n",
       "      <th>3</th>\n",
       "      <td>75.4</td>\n",
       "      <td>M</td>\n",
       "    </tr>\n",
       "    <tr>\n",
       "      <th>4</th>\n",
       "      <td>82.6</td>\n",
       "      <td>H</td>\n",
       "    </tr>\n",
       "  </tbody>\n",
       "</table>\n",
       "</div>"
      ],
      "text/plain": [
       "   lifeexp lifeexp_band\n",
       "0     57.9            L\n",
       "1     77.6            H\n",
       "2     76.5            H\n",
       "3     75.4            M\n",
       "4     82.6            H"
      ]
     },
     "execution_count": 54,
     "metadata": {},
     "output_type": "execute_result"
    }
   ],
   "source": [
    "# Check the binning has worked as expected\n",
    "dataset[['lifeexp','lifeexp_band']].head()"
   ]
  },
  {
   "cell_type": "code",
   "execution_count": 55,
   "metadata": {},
   "outputs": [
    {
     "data": {
      "text/plain": [
       "Index(['country', 'happiness', 'income', 'lifeexp', 'sanitation', 'water',\n",
       "       'literacy', 'inequality', 'energy', 'childmortality', 'fertility',\n",
       "       'hiv', 'foodsupply', 'population', 'lifeexp_band'],\n",
       "      dtype='object')"
      ]
     },
     "execution_count": 55,
     "metadata": {},
     "output_type": "execute_result"
    }
   ],
   "source": [
    "dataset.columns"
   ]
  },
  {
   "cell_type": "code",
   "execution_count": 60,
   "metadata": {},
   "outputs": [],
   "source": [
    "# Split into input and target features\n",
    "y = dataset[\"lifeexp_band\"]\n",
    "X = dataset[['happiness', 'income', 'sanitation', 'water', 'literacy', 'inequality', 'energy',\n",
    "             'childmortality', 'fertility',  'hiv', 'foodsupply', 'population']]\n"
   ]
  },
  {
   "cell_type": "code",
   "execution_count": 61,
   "metadata": {},
   "outputs": [
    {
     "data": {
      "text/html": [
       "<div>\n",
       "<style scoped>\n",
       "    .dataframe tbody tr th:only-of-type {\n",
       "        vertical-align: middle;\n",
       "    }\n",
       "\n",
       "    .dataframe tbody tr th {\n",
       "        vertical-align: top;\n",
       "    }\n",
       "\n",
       "    .dataframe thead th {\n",
       "        text-align: right;\n",
       "    }\n",
       "</style>\n",
       "<table border=\"1\" class=\"dataframe\">\n",
       "  <thead>\n",
       "    <tr style=\"text-align: right;\">\n",
       "      <th></th>\n",
       "      <th>happiness</th>\n",
       "      <th>income</th>\n",
       "      <th>sanitation</th>\n",
       "      <th>water</th>\n",
       "      <th>literacy</th>\n",
       "      <th>inequality</th>\n",
       "      <th>energy</th>\n",
       "      <th>childmortality</th>\n",
       "      <th>fertility</th>\n",
       "      <th>hiv</th>\n",
       "      <th>foodsupply</th>\n",
       "      <th>population</th>\n",
       "    </tr>\n",
       "  </thead>\n",
       "  <tbody>\n",
       "    <tr>\n",
       "      <th>0</th>\n",
       "      <td>3.982855</td>\n",
       "      <td>1750.0</td>\n",
       "      <td>39.2</td>\n",
       "      <td>63.0</td>\n",
       "      <td>39.000000</td>\n",
       "      <td>38.579375</td>\n",
       "      <td>2183.725325</td>\n",
       "      <td>73.2</td>\n",
       "      <td>4.80</td>\n",
       "      <td>5800.000000</td>\n",
       "      <td>2090.0</td>\n",
       "      <td>33700000</td>\n",
       "    </tr>\n",
       "    <tr>\n",
       "      <th>1</th>\n",
       "      <td>4.606651</td>\n",
       "      <td>11000.0</td>\n",
       "      <td>97.7</td>\n",
       "      <td>91.4</td>\n",
       "      <td>96.800000</td>\n",
       "      <td>29.000000</td>\n",
       "      <td>808.000000</td>\n",
       "      <td>14.0</td>\n",
       "      <td>1.71</td>\n",
       "      <td>217991.677852</td>\n",
       "      <td>3190.0</td>\n",
       "      <td>2920000</td>\n",
       "    </tr>\n",
       "    <tr>\n",
       "      <th>2</th>\n",
       "      <td>6.697131</td>\n",
       "      <td>19100.0</td>\n",
       "      <td>94.8</td>\n",
       "      <td>99.6</td>\n",
       "      <td>97.900000</td>\n",
       "      <td>41.400000</td>\n",
       "      <td>2020.000000</td>\n",
       "      <td>11.6</td>\n",
       "      <td>2.31</td>\n",
       "      <td>95000.000000</td>\n",
       "      <td>3230.0</td>\n",
       "      <td>43400000</td>\n",
       "    </tr>\n",
       "    <tr>\n",
       "      <th>3</th>\n",
       "      <td>4.348320</td>\n",
       "      <td>8180.0</td>\n",
       "      <td>91.6</td>\n",
       "      <td>98.9</td>\n",
       "      <td>99.600000</td>\n",
       "      <td>32.400000</td>\n",
       "      <td>1020.000000</td>\n",
       "      <td>14.0</td>\n",
       "      <td>1.66</td>\n",
       "      <td>3600.000000</td>\n",
       "      <td>2930.0</td>\n",
       "      <td>2920000</td>\n",
       "    </tr>\n",
       "    <tr>\n",
       "      <th>4</th>\n",
       "      <td>7.309061</td>\n",
       "      <td>43800.0</td>\n",
       "      <td>100.0</td>\n",
       "      <td>100.0</td>\n",
       "      <td>81.573826</td>\n",
       "      <td>34.700000</td>\n",
       "      <td>5480.000000</td>\n",
       "      <td>3.8</td>\n",
       "      <td>1.86</td>\n",
       "      <td>22000.000000</td>\n",
       "      <td>3280.0</td>\n",
       "      <td>23800000</td>\n",
       "    </tr>\n",
       "  </tbody>\n",
       "</table>\n",
       "</div>"
      ],
      "text/plain": [
       "   happiness   income  sanitation  water   literacy  inequality       energy  \\\n",
       "0   3.982855   1750.0        39.2   63.0  39.000000   38.579375  2183.725325   \n",
       "1   4.606651  11000.0        97.7   91.4  96.800000   29.000000   808.000000   \n",
       "2   6.697131  19100.0        94.8   99.6  97.900000   41.400000  2020.000000   \n",
       "3   4.348320   8180.0        91.6   98.9  99.600000   32.400000  1020.000000   \n",
       "4   7.309061  43800.0       100.0  100.0  81.573826   34.700000  5480.000000   \n",
       "\n",
       "   childmortality  fertility            hiv  foodsupply  population  \n",
       "0            73.2       4.80    5800.000000      2090.0    33700000  \n",
       "1            14.0       1.71  217991.677852      3190.0     2920000  \n",
       "2            11.6       2.31   95000.000000      3230.0    43400000  \n",
       "3            14.0       1.66    3600.000000      2930.0     2920000  \n",
       "4             3.8       1.86   22000.000000      3280.0    23800000  "
      ]
     },
     "execution_count": 61,
     "metadata": {},
     "output_type": "execute_result"
    }
   ],
   "source": [
    "X.head()"
   ]
  },
  {
   "cell_type": "code",
   "execution_count": 62,
   "metadata": {},
   "outputs": [
    {
     "data": {
      "text/plain": [
       "0    L\n",
       "1    H\n",
       "2    H\n",
       "3    M\n",
       "4    H\n",
       "Name: lifeexp_band, dtype: category\n",
       "Categories (3, object): ['L' < 'M' < 'H']"
      ]
     },
     "execution_count": 62,
     "metadata": {},
     "output_type": "execute_result"
    }
   ],
   "source": [
    "y.head()"
   ]
  },
  {
   "cell_type": "code",
   "execution_count": 63,
   "metadata": {},
   "outputs": [],
   "source": [
    "# Rescale the data\n",
    "scaler = MinMaxScaler(feature_range=(0,1))\n",
    "rescaledX = scaler.fit_transform(X)\n",
    "\n",
    "# Convert X back to a Pandas DataFrame, for convenience\n",
    "X = pd.DataFrame(rescaledX, columns=X.columns)"
   ]
  },
  {
   "cell_type": "code",
   "execution_count": 64,
   "metadata": {},
   "outputs": [
    {
     "data": {
      "text/html": [
       "<div>\n",
       "<style scoped>\n",
       "    .dataframe tbody tr th:only-of-type {\n",
       "        vertical-align: middle;\n",
       "    }\n",
       "\n",
       "    .dataframe tbody tr th {\n",
       "        vertical-align: top;\n",
       "    }\n",
       "\n",
       "    .dataframe thead th {\n",
       "        text-align: right;\n",
       "    }\n",
       "</style>\n",
       "<table border=\"1\" class=\"dataframe\">\n",
       "  <thead>\n",
       "    <tr style=\"text-align: right;\">\n",
       "      <th></th>\n",
       "      <th>happiness</th>\n",
       "      <th>income</th>\n",
       "      <th>sanitation</th>\n",
       "      <th>water</th>\n",
       "      <th>literacy</th>\n",
       "      <th>inequality</th>\n",
       "      <th>energy</th>\n",
       "      <th>childmortality</th>\n",
       "      <th>fertility</th>\n",
       "      <th>hiv</th>\n",
       "      <th>foodsupply</th>\n",
       "      <th>population</th>\n",
       "    </tr>\n",
       "  </thead>\n",
       "  <tbody>\n",
       "    <tr>\n",
       "      <th>count</th>\n",
       "      <td>194.000000</td>\n",
       "      <td>194.000000</td>\n",
       "      <td>194.000000</td>\n",
       "      <td>194.000000</td>\n",
       "      <td>194.000000</td>\n",
       "      <td>194.000000</td>\n",
       "      <td>194.000000</td>\n",
       "      <td>194.000000</td>\n",
       "      <td>194.000000</td>\n",
       "      <td>194.000000</td>\n",
       "      <td>194.000000</td>\n",
       "      <td>194.000000</td>\n",
       "    </tr>\n",
       "    <tr>\n",
       "      <th>mean</th>\n",
       "      <td>0.549625</td>\n",
       "      <td>0.140813</td>\n",
       "      <td>0.718449</td>\n",
       "      <td>0.830600</td>\n",
       "      <td>0.753331</td>\n",
       "      <td>0.473693</td>\n",
       "      <td>0.116950</td>\n",
       "      <td>0.216925</td>\n",
       "      <td>0.263789</td>\n",
       "      <td>0.038917</td>\n",
       "      <td>0.511086</td>\n",
       "      <td>0.027044</td>\n",
       "    </tr>\n",
       "    <tr>\n",
       "      <th>std</th>\n",
       "      <td>0.194528</td>\n",
       "      <td>0.159768</td>\n",
       "      <td>0.314995</td>\n",
       "      <td>0.217698</td>\n",
       "      <td>0.228323</td>\n",
       "      <td>0.156411</td>\n",
       "      <td>0.140854</td>\n",
       "      <td>0.231736</td>\n",
       "      <td>0.220853</td>\n",
       "      <td>0.098593</td>\n",
       "      <td>0.218624</td>\n",
       "      <td>0.101406</td>\n",
       "    </tr>\n",
       "    <tr>\n",
       "      <th>min</th>\n",
       "      <td>0.000000</td>\n",
       "      <td>0.000000</td>\n",
       "      <td>0.000000</td>\n",
       "      <td>0.000000</td>\n",
       "      <td>0.000000</td>\n",
       "      <td>0.000000</td>\n",
       "      <td>0.000000</td>\n",
       "      <td>0.000000</td>\n",
       "      <td>0.000000</td>\n",
       "      <td>0.000000</td>\n",
       "      <td>0.000000</td>\n",
       "      <td>0.000000</td>\n",
       "    </tr>\n",
       "    <tr>\n",
       "      <th>25%</th>\n",
       "      <td>0.446821</td>\n",
       "      <td>0.022404</td>\n",
       "      <td>0.453562</td>\n",
       "      <td>0.726146</td>\n",
       "      <td>0.673025</td>\n",
       "      <td>0.375000</td>\n",
       "      <td>0.032539</td>\n",
       "      <td>0.044510</td>\n",
       "      <td>0.090909</td>\n",
       "      <td>0.001820</td>\n",
       "      <td>0.365079</td>\n",
       "      <td>0.001408</td>\n",
       "    </tr>\n",
       "    <tr>\n",
       "      <th>50%</th>\n",
       "      <td>0.549625</td>\n",
       "      <td>0.087345</td>\n",
       "      <td>0.869780</td>\n",
       "      <td>0.937423</td>\n",
       "      <td>0.753331</td>\n",
       "      <td>0.473693</td>\n",
       "      <td>0.083668</td>\n",
       "      <td>0.116469</td>\n",
       "      <td>0.194215</td>\n",
       "      <td>0.012489</td>\n",
       "      <td>0.511086</td>\n",
       "      <td>0.006017</td>\n",
       "    </tr>\n",
       "    <tr>\n",
       "      <th>75%</th>\n",
       "      <td>0.648486</td>\n",
       "      <td>0.196663</td>\n",
       "      <td>0.975248</td>\n",
       "      <td>0.991326</td>\n",
       "      <td>0.938086</td>\n",
       "      <td>0.551185</td>\n",
       "      <td>0.129928</td>\n",
       "      <td>0.348850</td>\n",
       "      <td>0.404545</td>\n",
       "      <td>0.038917</td>\n",
       "      <td>0.666667</td>\n",
       "      <td>0.019582</td>\n",
       "    </tr>\n",
       "    <tr>\n",
       "      <th>max</th>\n",
       "      <td>1.000000</td>\n",
       "      <td>1.000000</td>\n",
       "      <td>1.000000</td>\n",
       "      <td>1.000000</td>\n",
       "      <td>1.000000</td>\n",
       "      <td>1.000000</td>\n",
       "      <td>1.000000</td>\n",
       "      <td>1.000000</td>\n",
       "      <td>1.000000</td>\n",
       "      <td>1.000000</td>\n",
       "      <td>1.000000</td>\n",
       "      <td>1.000000</td>\n",
       "    </tr>\n",
       "  </tbody>\n",
       "</table>\n",
       "</div>"
      ],
      "text/plain": [
       "        happiness      income  sanitation       water    literacy  inequality  \\\n",
       "count  194.000000  194.000000  194.000000  194.000000  194.000000  194.000000   \n",
       "mean     0.549625    0.140813    0.718449    0.830600    0.753331    0.473693   \n",
       "std      0.194528    0.159768    0.314995    0.217698    0.228323    0.156411   \n",
       "min      0.000000    0.000000    0.000000    0.000000    0.000000    0.000000   \n",
       "25%      0.446821    0.022404    0.453562    0.726146    0.673025    0.375000   \n",
       "50%      0.549625    0.087345    0.869780    0.937423    0.753331    0.473693   \n",
       "75%      0.648486    0.196663    0.975248    0.991326    0.938086    0.551185   \n",
       "max      1.000000    1.000000    1.000000    1.000000    1.000000    1.000000   \n",
       "\n",
       "           energy  childmortality   fertility         hiv  foodsupply  \\\n",
       "count  194.000000      194.000000  194.000000  194.000000  194.000000   \n",
       "mean     0.116950        0.216925    0.263789    0.038917    0.511086   \n",
       "std      0.140854        0.231736    0.220853    0.098593    0.218624   \n",
       "min      0.000000        0.000000    0.000000    0.000000    0.000000   \n",
       "25%      0.032539        0.044510    0.090909    0.001820    0.365079   \n",
       "50%      0.083668        0.116469    0.194215    0.012489    0.511086   \n",
       "75%      0.129928        0.348850    0.404545    0.038917    0.666667   \n",
       "max      1.000000        1.000000    1.000000    1.000000    1.000000   \n",
       "\n",
       "       population  \n",
       "count  194.000000  \n",
       "mean     0.027044  \n",
       "std      0.101406  \n",
       "min      0.000000  \n",
       "25%      0.001408  \n",
       "50%      0.006017  \n",
       "75%      0.019582  \n",
       "max      1.000000  "
      ]
     },
     "execution_count": 64,
     "metadata": {},
     "output_type": "execute_result"
    }
   ],
   "source": [
    "X.describe()"
   ]
  },
  {
   "cell_type": "markdown",
   "metadata": {},
   "source": [
    "Build Models\n",
    "BUild both decision trees and logistic regression models and see which one performs the best.\n",
    "\n",
    "Split into test and training sets\n",
    "Split the X and y sets into training and test sets."
   ]
  },
  {
   "cell_type": "code",
   "execution_count": 65,
   "metadata": {},
   "outputs": [],
   "source": [
    "# Split into test and training sets\n",
    "test_size = 0.2\n",
    "seed = 1\n",
    "X_train, X_test, Y_train, Y_test =  train_test_split(X, y, test_size=test_size, random_state=seed)"
   ]
  },
  {
   "cell_type": "code",
   "execution_count": 66,
   "metadata": {},
   "outputs": [
    {
     "data": {
      "text/plain": [
       "DecisionTreeClassifier()"
      ]
     },
     "execution_count": 66,
     "metadata": {},
     "output_type": "execute_result"
    }
   ],
   "source": [
    "# Build a decision tree model\n",
    "model_dt = DecisionTreeClassifier()\n",
    "model_dt.fit(X_train, Y_train)"
   ]
  },
  {
   "cell_type": "code",
   "execution_count": 67,
   "metadata": {},
   "outputs": [
    {
     "data": {
      "text/plain": [
       "LogisticRegression()"
      ]
     },
     "execution_count": 67,
     "metadata": {},
     "output_type": "execute_result"
    }
   ],
   "source": [
    "# Build a logistic regression model\n",
    "model_lr = LogisticRegression(solver='lbfgs', multi_class='auto')\n",
    "model_lr.fit(X_train, Y_train)"
   ]
  },
  {
   "cell_type": "markdown",
   "metadata": {},
   "source": [
    "Check the models\n",
    "Run the training data through both models and see how it performs"
   ]
  },
  {
   "cell_type": "code",
   "execution_count": 68,
   "metadata": {},
   "outputs": [
    {
     "name": "stdout",
     "output_type": "stream",
     "text": [
      "DecisionTreeClassifier 1.0\n"
     ]
    }
   ],
   "source": [
    "# Check the model performance with the training data\n",
    "predictions_dt = model_dt.predict(X_train)\n",
    "print(\"DecisionTreeClassifier\", accuracy_score(Y_train, predictions_dt))"
   ]
  },
  {
   "cell_type": "code",
   "execution_count": 71,
   "metadata": {},
   "outputs": [
    {
     "name": "stdout",
     "output_type": "stream",
     "text": [
      "LogisticRegression 0.8193548387096774\n"
     ]
    }
   ],
   "source": [
    "# Check the model performance with the training data\n",
    "predictions_lr = model_lr.predict(X_train)\n",
    "print(\"LogisticRegression\", accuracy_score(Y_train, predictions_lr))"
   ]
  },
  {
   "cell_type": "markdown",
   "metadata": {},
   "source": [
    "Evaluate the models\n",
    "Now we evaluate the models by testing with the test set:"
   ]
  },
  {
   "cell_type": "code",
   "execution_count": 72,
   "metadata": {},
   "outputs": [
    {
     "name": "stdout",
     "output_type": "stream",
     "text": [
      "DecisionTreeClassifier 0.6410256410256411\n"
     ]
    }
   ],
   "source": [
    "predictions_dt = model_dt.predict(X_test)\n",
    "print(\"DecisionTreeClassifier\", accuracy_score(Y_test, predictions_dt))"
   ]
  },
  {
   "cell_type": "code",
   "execution_count": 73,
   "metadata": {},
   "outputs": [
    {
     "name": "stdout",
     "output_type": "stream",
     "text": [
      "LogisticRegression 0.6923076923076923\n"
     ]
    }
   ],
   "source": [
    "predictions_lr = model_lr.predict(X_test)\n",
    "print(\"LogisticRegression\", accuracy_score(Y_test, predictions_lr))"
   ]
  },
  {
   "cell_type": "code",
   "execution_count": 74,
   "metadata": {},
   "outputs": [],
   "source": [
    "model = model_lr"
   ]
  },
  {
   "cell_type": "code",
   "execution_count": 88,
   "metadata": {},
   "outputs": [
    {
     "ename": "ModuleNotFoundError",
     "evalue": "No module named 'graphviz'",
     "output_type": "error",
     "traceback": [
      "\u001b[1;31m---------------------------------------------------------------------------\u001b[0m",
      "\u001b[1;31mModuleNotFoundError\u001b[0m                       Traceback (most recent call last)",
      "\u001b[1;32md:\\Machine_Learning\\Project_Supervised\\Build.ipynb Cell 39\u001b[0m in \u001b[0;36m<cell line: 1>\u001b[1;34m()\u001b[0m\n\u001b[1;32m----> <a href='vscode-notebook-cell:/d%3A/Machine_Learning/Project_Supervised/Build.ipynb#X66sZmlsZQ%3D%3D?line=0'>1</a>\u001b[0m \u001b[39mimport\u001b[39;00m \u001b[39mgraphviz\u001b[39;00m\n",
      "\u001b[1;31mModuleNotFoundError\u001b[0m: No module named 'graphviz'"
     ]
    }
   ],
   "source": [
    "import graphviz "
   ]
  },
  {
   "cell_type": "code",
   "execution_count": 86,
   "metadata": {},
   "outputs": [],
   "source": [
    "def viewDecisionTree(model, column_names):\n",
    "    '''Visualise the decision tree'''\n",
    "\n",
    "    dot_data = tree.export_graphviz(model, out_file=None,\n",
    "            feature_names=column_names,\n",
    "            class_names=model.classes_,\n",
    "            filled=True, rounded=True,\n",
    "            special_characters=True)\n",
    "    graph = graphviz.Source(dot_data) \n",
    "    return graph  "
   ]
  },
  {
   "cell_type": "code",
   "execution_count": 87,
   "metadata": {},
   "outputs": [
    {
     "ename": "NameError",
     "evalue": "name 'tree' is not defined",
     "output_type": "error",
     "traceback": [
      "\u001b[1;31m---------------------------------------------------------------------------\u001b[0m",
      "\u001b[1;31mNameError\u001b[0m                                 Traceback (most recent call last)",
      "\u001b[1;32md:\\Machine_Learning\\Project_Supervised\\Build.ipynb Cell 40\u001b[0m in \u001b[0;36m<cell line: 1>\u001b[1;34m()\u001b[0m\n\u001b[1;32m----> <a href='vscode-notebook-cell:/d%3A/Machine_Learning/Project_Supervised/Build.ipynb#X54sZmlsZQ%3D%3D?line=0'>1</a>\u001b[0m viewDecisionTree(model_dt, X\u001b[39m.\u001b[39;49mcolumns)\n",
      "\u001b[1;32md:\\Machine_Learning\\Project_Supervised\\Build.ipynb Cell 40\u001b[0m in \u001b[0;36mviewDecisionTree\u001b[1;34m(model, column_names)\u001b[0m\n\u001b[0;32m      <a href='vscode-notebook-cell:/d%3A/Machine_Learning/Project_Supervised/Build.ipynb#X54sZmlsZQ%3D%3D?line=0'>1</a>\u001b[0m \u001b[39mdef\u001b[39;00m \u001b[39mviewDecisionTree\u001b[39m(model, column_names):\n\u001b[0;32m      <a href='vscode-notebook-cell:/d%3A/Machine_Learning/Project_Supervised/Build.ipynb#X54sZmlsZQ%3D%3D?line=1'>2</a>\u001b[0m     \u001b[39m'''Visualise the decision tree'''\u001b[39;00m\n\u001b[1;32m----> <a href='vscode-notebook-cell:/d%3A/Machine_Learning/Project_Supervised/Build.ipynb#X54sZmlsZQ%3D%3D?line=3'>4</a>\u001b[0m     dot_data \u001b[39m=\u001b[39m tree\u001b[39m.\u001b[39mexport_graphviz(model, out_file\u001b[39m=\u001b[39m\u001b[39mNone\u001b[39;00m,\n\u001b[0;32m      <a href='vscode-notebook-cell:/d%3A/Machine_Learning/Project_Supervised/Build.ipynb#X54sZmlsZQ%3D%3D?line=4'>5</a>\u001b[0m             feature_names\u001b[39m=\u001b[39mcolumn_names,\n\u001b[0;32m      <a href='vscode-notebook-cell:/d%3A/Machine_Learning/Project_Supervised/Build.ipynb#X54sZmlsZQ%3D%3D?line=5'>6</a>\u001b[0m             class_names\u001b[39m=\u001b[39mmodel\u001b[39m.\u001b[39mclasses_,\n\u001b[0;32m      <a href='vscode-notebook-cell:/d%3A/Machine_Learning/Project_Supervised/Build.ipynb#X54sZmlsZQ%3D%3D?line=6'>7</a>\u001b[0m             filled\u001b[39m=\u001b[39m\u001b[39mTrue\u001b[39;00m, rounded\u001b[39m=\u001b[39m\u001b[39mTrue\u001b[39;00m,\n\u001b[0;32m      <a href='vscode-notebook-cell:/d%3A/Machine_Learning/Project_Supervised/Build.ipynb#X54sZmlsZQ%3D%3D?line=7'>8</a>\u001b[0m             special_characters\u001b[39m=\u001b[39m\u001b[39mTrue\u001b[39;00m)\n\u001b[0;32m      <a href='vscode-notebook-cell:/d%3A/Machine_Learning/Project_Supervised/Build.ipynb#X54sZmlsZQ%3D%3D?line=8'>9</a>\u001b[0m     graph \u001b[39m=\u001b[39m graphviz\u001b[39m.\u001b[39mSource(dot_data) \n\u001b[0;32m     <a href='vscode-notebook-cell:/d%3A/Machine_Learning/Project_Supervised/Build.ipynb#X54sZmlsZQ%3D%3D?line=9'>10</a>\u001b[0m     \u001b[39mreturn\u001b[39;00m graph\n",
      "\u001b[1;31mNameError\u001b[0m: name 'tree' is not defined"
     ]
    }
   ],
   "source": [
    "viewDecisionTree(model_dt, X.columns)"
   ]
  },
  {
   "cell_type": "code",
   "execution_count": 80,
   "metadata": {},
   "outputs": [],
   "source": [
    "def decisionTreeSummary(model, column_names):\n",
    "    '''Show a summary of the trained decision tree model'''\n",
    "\n",
    "    # Plot the feature importances as bars\n",
    "    fig = plt.figure(figsize=(8,len(column_names)/3))\n",
    "    fig.suptitle('Decision tree feature importance', fontsize=16)\n",
    "    rects = plt.barh(column_names, model.feature_importances_,color=\"khaki\")\n",
    "\n",
    "    # Annotate the bars with the feature importance values\n",
    "    for rect in rects:\n",
    "        width = round(rect.get_width(),4)\n",
    "        plt.gca().annotate('  {}  '.format(width),\n",
    "                    xy=(width, rect.get_y()),\n",
    "                    xytext=(0,2),  \n",
    "                    textcoords=\"offset points\",  \n",
    "                    ha='left', va='bottom')   "
   ]
  },
  {
   "cell_type": "code",
   "execution_count": 81,
   "metadata": {},
   "outputs": [
    {
     "data": {
      "image/png": "[encoded data removed]",
      "text/plain": [
       "<Figure size 576x288 with 1 Axes>"
      ]
     },
     "metadata": {
      "needs_background": "light"
     },
     "output_type": "display_data"
    }
   ],
   "source": [
    "decisionTreeSummary(model_dt, X.columns)"
   ]
  },
  {
   "cell_type": "code",
   "execution_count": 82,
   "metadata": {},
   "outputs": [
    {
     "data": {
      "text/plain": [
       "array(['H', 'L', 'M'], dtype=object)"
      ]
     },
     "execution_count": 82,
     "metadata": {},
     "output_type": "execute_result"
    }
   ],
   "source": [
    "model_lr.classes_"
   ]
  },
  {
   "cell_type": "code",
   "execution_count": 83,
   "metadata": {},
   "outputs": [
    {
     "data": {
      "text/plain": [
       "array([[ 1.71371091,  1.49722408,  1.27087553,  0.59605494,  0.08151421,\n",
       "        -0.19455046,  0.37127391, -1.01763089, -0.83082851, -0.21858755,\n",
       "         1.46283924, -0.25427835],\n",
       "       [-1.14321387, -0.45304543, -1.85890281, -1.51035997, -0.65328426,\n",
       "         0.45458793, -0.120908  ,  1.70983582,  1.01263768,  0.59282548,\n",
       "        -0.55870809,  0.10694288],\n",
       "       [-0.57049704, -1.04417865,  0.58802728,  0.91430503,  0.57177005,\n",
       "        -0.26003747, -0.25036591, -0.69220493, -0.18180917, -0.37423793,\n",
       "        -0.90413115,  0.14733547]])"
      ]
     },
     "execution_count": 83,
     "metadata": {},
     "output_type": "execute_result"
    }
   ],
   "source": [
    "model_lr.coef_"
   ]
  },
  {
   "cell_type": "code",
   "execution_count": 84,
   "metadata": {},
   "outputs": [],
   "source": [
    "def logisticRegressionSummary(model, column_names):\n",
    "    '''Show a summary of the trained logistic regression model'''\n",
    "\n",
    "    # Get a list of class names\n",
    "    numclasses = len(model.classes_)\n",
    "    if len(model.classes_)==2:\n",
    "        classes =  [model.classes_[1]] # if we have 2 classes, sklearn only shows one set of coefficients\n",
    "    else:\n",
    "        classes = model.classes_\n",
    "\n",
    "    # Create a plot for each class\n",
    "    for i,c in enumerate(classes):\n",
    "        # Plot the coefficients as bars\n",
    "        fig = plt.figure(figsize=(8,len(column_names)/3))\n",
    "        fig.suptitle('Logistic Regression Coefficients for Class ' + str(c), fontsize=16)\n",
    "        rects = plt.barh(column_names, model.coef_[i],color=\"lightblue\")\n",
    "        \n",
    "        # Annotate the bars with the coefficient values\n",
    "        for rect in rects:\n",
    "            width = round(rect.get_width(),4)\n",
    "            plt.gca().annotate('  {}  '.format(width),\n",
    "                        xy=(0, rect.get_y()),\n",
    "                        xytext=(0,2),  \n",
    "                        textcoords=\"offset points\",  \n",
    "                        ha='left' if width<0 else 'right', va='bottom')        \n",
    "        plt.show()\n",
    "        #for pair in zip(X.columns, model_lr.coef_[i]):\n",
    "        #    print (pair)"
   ]
  },
  {
   "cell_type": "code",
   "execution_count": 85,
   "metadata": {},
   "outputs": [
    {
     "data": {
      "image/png": "[encoded data removed]",
      "text/plain": [
       "<Figure size 576x288 with 1 Axes>"
      ]
     },
     "metadata": {
      "needs_background": "light"
     },
     "output_type": "display_data"
    },
    {
     "data": {
      "image/png": "[encoded data removed]",
      "text/plain": [
       "<Figure size 576x288 with 1 Axes>"
      ]
     },
     "metadata": {
      "needs_background": "light"
     },
     "output_type": "display_data"
    },
    {
     "data": {
      "image/png": "[encoded data removed]",
      "text/plain": [
       "<Figure size 576x288 with 1 Axes>"
      ]
     },
     "metadata": {
      "needs_background": "light"
     },
     "output_type": "display_data"
    }
   ],
   "source": [
    "logisticRegressionSummary(model_lr, X.columns)"
   ]
  },
  {
   "cell_type": "code",
   "execution_count": null,
   "metadata": {},
   "outputs": [],
   "source": []
  }
 ],
 "metadata": {
  "kernelspec": {
   "display_name": "Python 3.9.13 64-bit (microsoft store)",
   "language": "python",
   "name": "python3"
  },
  "language_info": {
   "codemirror_mode": {
    "name": "ipython",
    "version": 3
   },
   "file_extension": ".py",
   "mimetype": "text/x-python",
   "name": "python",
   "nbconvert_exporter": "python",
   "pygments_lexer": "ipython3",
   "version": "3.9.13"
  },
  "orig_nbformat": 4,
  "vscode": {
   "interpreter": {
    "hash": "45c983ac0ead693fe3b11fb7ac790579d1aca2a74fa6fec68b2917b4676c18c2"
   }
  }
 },
 "nbformat": 4,
 "nbformat_minor": 2
}
